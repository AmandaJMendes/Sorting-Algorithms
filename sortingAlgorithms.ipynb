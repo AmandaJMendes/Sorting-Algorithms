{
  "nbformat": 4,
  "nbformat_minor": 0,
  "metadata": {
    "colab": {
      "provenance": [],
      "authorship_tag": "ABX9TyPZX/6ixQ1asYvYl3XKqDTG",
      "include_colab_link": true
    },
    "kernelspec": {
      "name": "python3",
      "display_name": "Python 3"
    },
    "language_info": {
      "name": "python"
    }
  },
  "cells": [
    {
      "cell_type": "markdown",
      "metadata": {
        "id": "view-in-github",
        "colab_type": "text"
      },
      "source": [
        "<a href=\"https://colab.research.google.com/github/AmandaJMendes/Sorting-Algorithms/blob/main/sortingAlgorithms.ipynb\" target=\"_parent\"><img src=\"https://colab.research.google.com/assets/colab-badge.svg\" alt=\"Open In Colab\"/></a>"
      ]
    },
    {
      "cell_type": "code",
      "execution_count": null,
      "metadata": {
        "id": "4Ls5J7fuEsMy"
      },
      "outputs": [],
      "source": [
        "def selection_sort(A):\n",
        "  n = len(A)\n",
        "  for i in range(n-1):\n",
        "    smallest = i\n",
        "    for j in range(i+1, n):\n",
        "      if A[j]<A[i]:\n",
        "        smallest = j\n",
        "    A[i], A[smallest] = A[smallest], A[i]\n",
        "    print(A)"
      ]
    },
    {
      "cell_type": "code",
      "source": [
        "def insertion_sort(A):\n",
        "  n = len(A)\n",
        "  counter = 0\n",
        "  for i in range(1, n):\n",
        "    val = A[i]\n",
        "    j = i-1\n",
        "    while j>-1 and A[j]>val:\n",
        "      A[j+1] = A[j]\n",
        "      j-=1\n",
        "      counter+=1\n",
        "    A[j+1] = val\n",
        "    counter+=1\n",
        "  print(counter)\n",
        "  return A"
      ],
      "metadata": {
        "id": "QQ_0cmgWFhWF"
      },
      "execution_count": null,
      "outputs": []
    },
    {
      "cell_type": "code",
      "source": [
        "def bubble_sort(A):\n",
        "  n = len(A)\n",
        "  counter = 0\n",
        "  for j in range(1, n):\n",
        "    for i in range(n-1, j-1, -1):\n",
        "      if A[i] < A [i-1]:\n",
        "        A[i], A[i-1] = A[i-1], A[i]\n",
        "        counter+=1\n",
        "  print(counter)\n",
        "  return A\n"
      ],
      "metadata": {
        "id": "vOMLW9G8IRg6"
      },
      "execution_count": null,
      "outputs": []
    },
    {
      "cell_type": "code",
      "source": [
        "def max_heapify(A, i, heapsize):\n",
        "  l = 2*i\n",
        "  r = l+1\n",
        "  largest = i\n",
        "  if l <= heapsize and A[l] > A[largest]:\n",
        "    largest = l\n",
        "  if r <= heapsize and A[r] > A[largest]:\n",
        "    largest = r\n",
        "  if largest != i:\n",
        "    A[i], A[largest] = A[largest], A[i]\n",
        "    max_heapify(A, largest, heapsize)\n",
        "\n",
        "def build_max_heap(A):\n",
        "  for i in range(len(A)//2, 0, -1):\n",
        "    max_heapify(A, i, len(A)-1)\n",
        " \n",
        "\n",
        "def heapsort(A):\n",
        "  build_max_heap(A)\n",
        "  print(A)\n",
        "  heapsize = len(A)-1\n",
        "  for i in range(len(A)-1, 1, -1):\n",
        "    A[1], A[i] = A[i], A[1]\n",
        "    heapsize-=1\n",
        "    max_heapify(A, 1, heapsize)\n",
        "    print(A)\n"
      ],
      "metadata": {
        "id": "jb4Cxty3GCTM"
      },
      "execution_count": null,
      "outputs": []
    },
    {
      "cell_type": "code",
      "source": [
        "import numpy as np\n",
        "\n",
        "def partition(A, p, r):\n",
        "  i = p-1\n",
        "  for j in range(p, r):\n",
        "    if A[j]>A[r]:\n",
        "      A[i+1], A[j] = A[j], A[i+1]\n",
        "      i+=1\n",
        "  A[i+1], A[r] = A[r], A[i+1]\n",
        "  return i+1\n",
        "\n",
        "def quicksort(A, p, r):\n",
        "  if p < r:\n",
        "    print(A, p, r)\n",
        "    q = partition(A, p, r)\n",
        "    quicksort(A, p, q-1)\n",
        "    quicksort(A, q+1, r)\n",
        "    \n",
        "\n",
        "def randomized_partition(A, p, r):\n",
        "  i = np.random.randint(p, r+1)\n",
        "  A[r], A[i] = A[i], A[r]\n",
        "  return partition(A, p, r)\n",
        "\n",
        "def randomized_quicksort(A, p, r):\n",
        "  if p < r:\n",
        "    q = randomized_partition(A, p, r)\n",
        "    quicksort(A, p, q-1)\n",
        "    quicksort(A, q+1, r)"
      ],
      "metadata": {
        "id": "ztfD9UKut5i_"
      },
      "execution_count": null,
      "outputs": []
    },
    {
      "cell_type": "code",
      "source": [
        "def counting_sort(A, k):\n",
        "  n = len(A)\n",
        "  B = n*[None]\n",
        "  C = [None]+k*[0]\n",
        "  for i in A:\n",
        "    C[i] += 1\n",
        "  for i in range(1, len(C)-1):\n",
        "    C[i+1] += C[i]\n",
        "  for i in A[::-1]:\n",
        "    B[C[i]-1] = i\n",
        "    C[i]-=1\n",
        "    print(B, C)"
      ],
      "metadata": {
        "id": "LIoRR2nvce3U"
      },
      "execution_count": null,
      "outputs": []
    },
    {
      "cell_type": "code",
      "source": [
        "def counting_sort_digit(A, k, d):\n",
        "  n = len(A)\n",
        "  B = n*[None]\n",
        "  C = [None]+k*[0]\n",
        "  for i in A:\n",
        "    id = int((i/10**d)%10)\n",
        "    C[id+1] += 1\n",
        "  for i in range(1, len(C)-1):\n",
        "    C[i+1] += C[i]\n",
        "  for i in A[::-1]:\n",
        "    id = int((i/10**d)%10)\n",
        "    B[C[id+1]-1] = i\n",
        "    C[id+1]-=1\n",
        "  return B\n",
        "\n",
        "def radix_sort(A, d):\n",
        "  B = A\n",
        "  for i in range(d):\n",
        "    B = counting_sort_digit(B, 10, i)\n",
        "    print(B)"
      ],
      "metadata": {
        "id": "JdOOsHOKp1SH"
      },
      "execution_count": 13,
      "outputs": []
    },
    {
      "cell_type": "code",
      "source": [
        "def bucket_sort(A):\n",
        "  n = len(A)\n",
        "  B = [[] for i in range(n)]\n",
        "  for i in A:\n",
        "    B[int(n*i)].append(i)\n",
        "  output = []\n",
        "  for bucket in B:\n",
        "    insertion_sort(bucket)\n",
        "    output+=bucket\n",
        "  print(output)\n",
        "\n"
      ],
      "metadata": {
        "id": "BeMUKM3r0IiR"
      },
      "execution_count": null,
      "outputs": []
    }
  ]
}